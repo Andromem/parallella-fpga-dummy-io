{
 "cells": [
  {
   "cell_type": "code",
   "execution_count": 1,
   "metadata": {
    "autoscroll": "json-false",
    "collapsed": false,
    "ein.tags": [
     "worksheet-0"
    ]
   },
   "outputs": [],
   "source": [
    "from __future__ import print_function"
   ]
  },
  {
   "cell_type": "code",
   "execution_count": 2,
   "metadata": {
    "autoscroll": "json-false",
    "collapsed": false,
    "ein.tags": [
     "worksheet-0"
    ]
   },
   "outputs": [],
   "source": [
    "def to_bin(x):\n",
    "    vv = [ (x>>(32-(i+1)*4))&0xF for i in range(8)]\n",
    "    return '{0:04b}_{1:04b}|{2:04b}_{3:04b}|{4:04b}_{5:04b}|{6:04b}_{7:04b}'.format( *vv )"
   ]
  },
  {
   "cell_type": "code",
   "execution_count": 3,
   "metadata": {
    "collapsed": true
   },
   "outputs": [],
   "source": [
    "import uio\n",
    "reload(uio)\n",
    "import numpy as np\n",
    "\n",
    "axi_dma_direct_dtype = np.dtype([\n",
    "        ('cr'        , '<u4'),\n",
    "        ('st'        , '<u4'),\n",
    "        ('reserved1' , '<u4',4),\n",
    "        ('addr_lo'   , '<u4'),\n",
    "        ('addr_hi'   , '<u4'),\n",
    "        ('reserved2' , '<u4',2),\n",
    "        ('length'    , '<u4'),\n",
    "        ('pad'       , '<u4'),])\n",
    "\n",
    "def dma_reset(dma):\n",
    "    dma.cr = 4\n",
    "    dma.cr = 0\n",
    "    \n",
    "def dma_idle(dma):\n",
    "    return (dma.st&2) == 2\n",
    "\n",
    "def dma_halted(dma):\n",
    "    return (dma.st&1) == 1"
   ]
  },
  {
   "cell_type": "code",
   "execution_count": 4,
   "metadata": {
    "collapsed": false
   },
   "outputs": [
    {
     "name": "stdout",
     "output_type": "stream",
     "text": [
      "0000_0000|0000_0001|0000_0000|0000_0010\n",
      "0000_0000|0000_0001|0000_0000|0000_0010\n",
      "0000_0000|0000_0000|0000_0000|0000_0001\n",
      "0000_0000|0000_0000|0000_0000|0000_0001\n"
     ]
    },
    {
     "data": {
      "text/plain": [
       "(UIO: dma (uio2) sz:0x10000 @0x40400000,\n",
       " UIO: scratch_mem (uio0) sz:0x2000000 @0x3e000000,\n",
       " (65538L, 1L, array([0, 0, 0, 0], dtype=uint32), 0L, 0L, array([0, 0], dtype=uint32), 0L, 0L),\n",
       " (65538L, 1L, array([0, 0, 0, 0], dtype=uint32), 0L, 0L, array([0, 0], dtype=uint32), 0L, 0L),\n",
       " False)"
      ]
     },
     "execution_count": 4,
     "metadata": {},
     "output_type": "execute_result"
    }
   ],
   "source": [
    "mem_uio = uio.UIO('scratch_mem')\n",
    "\n",
    "dma_uio = uio.UIO('dma')\n",
    "mm2s, s2mm = dma_uio.as_recarray(2, dtype=axi_dma_direct_dtype)\n",
    "\n",
    "#reset dma streams\n",
    "dma_reset(mm2s)\n",
    "dma_reset(s2mm)\n",
    "\n",
    "print('\\n'.join([to_bin(x) for x in [mm2s.cr, s2mm.cr, mm2s.st,s2mm.st]]))\n",
    "\n",
    "dma_uio, mem_uio, mm2s, s2mm, dma_idle(s2mm)"
   ]
  },
  {
   "cell_type": "code",
   "execution_count": 16,
   "metadata": {
    "collapsed": false
   },
   "outputs": [
    {
     "name": "stdout",
     "output_type": "stream",
     "text": [
      "0000_0000|0000_0001|0000_0000|0000_0010\n",
      "0000_0000|0000_0001|0000_0000|0000_0010\n",
      "0000_0000|0000_0000|0000_0000|0000_0001\n",
      "0000_0000|0000_0000|0000_0000|0000_0001\n",
      "SRC: [197 175 200  37]\n",
      "DST: [255 255 255 255]\n"
     ]
    }
   ],
   "source": [
    "SZ=(1<<19)\n",
    "\n",
    "data = mem_uio.as_ndarray()\n",
    "\n",
    "src_data = data[:SZ]\n",
    "dst_data = data[SZ:SZ*2]\n",
    "\n",
    "src_data[:] = np.random.randint(0,256,SZ)\n",
    "dst_data[:] = 0xFF\n",
    "\n",
    "[hex(x) for x in [mem_uio.phy(), mem_uio.phy(src_data), mem_uio.phy(dst_data)]]\n",
    "\n",
    "print('\\n'.join([to_bin(x) for x in [mm2s.cr, s2mm.cr, mm2s.st,s2mm.st]]))\n",
    "print(\"SRC:\",src_data[:4])\n",
    "print(\"DST:\",dst_data[:4])"
   ]
  },
  {
   "cell_type": "code",
   "execution_count": 21,
   "metadata": {
    "collapsed": false
   },
   "outputs": [
    {
     "name": "stdout",
     "output_type": "stream",
     "text": [
      "0000_0000|0000_0000|0000_0000|0000_0001\n",
      "0000_0000|0000_0000|0000_0000|0000_0001\n",
      "int: 1\n",
      "int: 1\n",
      " done\n",
      "0000_0000|0000_0000|0001_0000|0000_0010\n",
      "0000_0000|0000_0000|0001_0000|0000_0010\n",
      " resetting\n",
      "0000_0000|0000_0000|0000_0000|0000_0001\n",
      "0000_0000|0000_0000|0000_0000|0000_0001\n"
     ]
    }
   ],
   "source": [
    "map(dma_reset, [s2mm,mm2s])\n",
    "map(lambda dma: print(to_bin(dma.st)), [s2mm,mm2s])\n",
    "\n",
    "#set up stream to memory transfer first\n",
    "s2mm.addr_lo = mem_uio.phy(dst_data)\n",
    "s2mm.cr = (0x1<<12)|1 #on completion interrupt\n",
    "s2mm.length = SZ\n",
    "\n",
    "assert dma_idle(s2mm) ==  False\n",
    "\n",
    "#now do memory to stream\n",
    "mm2s.addr_lo = mem_uio.phy(src_data)\n",
    "mm2s.cr = (0x1<<12)|1 #on completion interrupt\n",
    "mm2s.length = SZ\n",
    "\n",
    "x = dma_uio.wait_for_interrupt()\n",
    "print('int:',x)\n",
    "if x < 2: #wait for second interrupt\n",
    "    x = dma_uio.wait_for_interrupt()\n",
    "    print('int:',x)\n",
    "\n",
    "\n",
    "#poll until 'idle' bit is flipped on the PL->PS dma channel\n",
    "while dma_idle(s2mm) == False:\n",
    "    print('.', end='')\n",
    "print(' done')\n",
    "assert dma_idle(s2mm)\n",
    "\n",
    "map(lambda dma: print(to_bin(dma.st)), [s2mm,mm2s])\n",
    "\n",
    "print(' resetting')\n",
    "dma_reset(s2mm)\n",
    "dma_reset(mm2s)\n",
    "\n",
    "map(lambda dma: print(to_bin(dma.st)), [s2mm,mm2s])\n",
    "pass"
   ]
  },
  {
   "cell_type": "code",
   "execution_count": 18,
   "metadata": {
    "collapsed": false
   },
   "outputs": [
    {
     "name": "stdout",
     "output_type": "stream",
     "text": [
      "SUCCESS: Data copied as expected\n",
      "SRC: [197 175 200  37]\n",
      "DST: [197 175 200  37]\n"
     ]
    }
   ],
   "source": [
    "if (src_data == dst_data).all():\n",
    "    print('SUCCESS: Data copied as expected')\n",
    "else:\n",
    "    print('FAILED: dst and src do not match up')\n",
    "\n",
    "print(\"SRC:\",src_data[:4])\n",
    "print(\"DST:\",dst_data[:4])"
   ]
  },
  {
   "cell_type": "code",
   "execution_count": 10,
   "metadata": {
    "collapsed": false
   },
   "outputs": [
    {
     "ename": "KeyboardInterrupt",
     "evalue": "",
     "output_type": "error",
     "traceback": [
      "\u001b[1;31m---------------------------------------------------------------------------\u001b[0m",
      "\u001b[1;31mKeyboardInterrupt\u001b[0m                         Traceback (most recent call last)",
      "\u001b[1;32m<ipython-input-10-78ff8e683e61>\u001b[0m in \u001b[0;36m<module>\u001b[1;34m()\u001b[0m\n\u001b[1;32m----> 1\u001b[1;33m \u001b[0mdma_uio\u001b[0m\u001b[1;33m.\u001b[0m\u001b[0mwait_for_interrupt\u001b[0m\u001b[1;33m(\u001b[0m\u001b[1;33m)\u001b[0m\u001b[1;33m\u001b[0m\u001b[0m\n\u001b[0m",
      "\u001b[1;32m/home/parallella/kk/notebooks/uio.pyc\u001b[0m in \u001b[0;36mwait_for_interrupt\u001b[1;34m(self)\u001b[0m\n\u001b[0;32m    140\u001b[0m \u001b[1;33m\u001b[0m\u001b[0m\n\u001b[0;32m    141\u001b[0m         \u001b[0mos\u001b[0m\u001b[1;33m.\u001b[0m\u001b[0mwrite\u001b[0m\u001b[1;33m(\u001b[0m\u001b[0mself\u001b[0m\u001b[1;33m.\u001b[0m\u001b[0m_fd\u001b[0m\u001b[1;33m,\u001b[0m \u001b[0mstruct\u001b[0m\u001b[1;33m.\u001b[0m\u001b[0mpack\u001b[0m\u001b[1;33m(\u001b[0m\u001b[1;34m'@I'\u001b[0m\u001b[1;33m,\u001b[0m\u001b[1;36m1\u001b[0m\u001b[1;33m)\u001b[0m\u001b[1;33m)\u001b[0m\u001b[1;33m\u001b[0m\u001b[0m\n\u001b[1;32m--> 142\u001b[1;33m         \u001b[0me_count\u001b[0m \u001b[1;33m=\u001b[0m \u001b[0mstruct\u001b[0m\u001b[1;33m.\u001b[0m\u001b[0munpack\u001b[0m\u001b[1;33m(\u001b[0m\u001b[1;34m'@I'\u001b[0m\u001b[1;33m,\u001b[0m \u001b[0mos\u001b[0m\u001b[1;33m.\u001b[0m\u001b[0mread\u001b[0m\u001b[1;33m(\u001b[0m\u001b[0mself\u001b[0m\u001b[1;33m.\u001b[0m\u001b[0m_fd\u001b[0m\u001b[1;33m,\u001b[0m\u001b[1;36m4\u001b[0m\u001b[1;33m)\u001b[0m \u001b[1;33m)\u001b[0m\u001b[1;33m[\u001b[0m\u001b[1;36m0\u001b[0m\u001b[1;33m]\u001b[0m\u001b[1;33m\u001b[0m\u001b[0m\n\u001b[0m\u001b[0;32m    143\u001b[0m         \u001b[0me_diff\u001b[0m \u001b[1;33m=\u001b[0m \u001b[0me_count\u001b[0m \u001b[1;33m-\u001b[0m \u001b[0mself\u001b[0m\u001b[1;33m.\u001b[0m\u001b[0m_event_count\u001b[0m\u001b[1;33m\u001b[0m\u001b[0m\n\u001b[0;32m    144\u001b[0m         \u001b[0mself\u001b[0m\u001b[1;33m.\u001b[0m\u001b[0m_event_count\u001b[0m \u001b[1;33m=\u001b[0m \u001b[0me_count\u001b[0m\u001b[1;33m\u001b[0m\u001b[0m\n",
      "\u001b[1;31mKeyboardInterrupt\u001b[0m: "
     ]
    }
   ],
   "source": [
    "dma_uio.wait_for_interrupt()"
   ]
  },
  {
   "cell_type": "code",
   "execution_count": null,
   "metadata": {
    "autoscroll": "json-false",
    "collapsed": false,
    "ein.tags": [
     "worksheet-0"
    ]
   },
   "outputs": [],
   "source": [
    "%%sh\n",
    "\n",
    "date\n",
    "whoami\n",
    "ls -l /dev/uio* /dev/mem\n",
    "cat /sys/class/uio/uio?/maps/map0/name\n",
    "cat /sys/class/uio/uio?/name\n",
    "ls /sys/class/uio/uio0/maps/map0"
   ]
  },
  {
   "cell_type": "code",
   "execution_count": null,
   "metadata": {
    "autoscroll": "json-false",
    "collapsed": false,
    "ein.tags": [
     "worksheet-0"
    ]
   },
   "outputs": [],
   "source": [
    "#!dtc -I fs -O dts /proc/device-tree/ "
   ]
  }
 ],
 "metadata": {
  "kernelspec": {
   "display_name": "Python 2",
   "language": "python",
   "name": "python2"
  },
  "language_info": {
   "codemirror_mode": {
    "name": "ipython",
    "version": 2
   },
   "file_extension": ".py",
   "mimetype": "text/x-python",
   "name": "python",
   "nbconvert_exporter": "python",
   "pygments_lexer": "ipython2",
   "version": "2.7.6"
  },
  "name": "axi-dma.ipynb"
 },
 "nbformat": 4,
 "nbformat_minor": 0
}
