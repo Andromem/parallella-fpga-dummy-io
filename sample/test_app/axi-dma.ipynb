{
 "cells": [
  {
   "cell_type": "code",
   "execution_count": 1,
   "metadata": {
    "autoscroll": "json-false",
    "collapsed": false,
    "ein.tags": [
     "worksheet-0"
    ]
   },
   "outputs": [],
   "source": [
    "from __future__ import print_function"
   ]
  },
  {
   "cell_type": "code",
   "execution_count": 2,
   "metadata": {
    "autoscroll": "json-false",
    "collapsed": false,
    "ein.tags": [
     "worksheet-0"
    ]
   },
   "outputs": [
    {
     "data": {
      "text/plain": [
       "UIO: dma (uio2) sz:0x10000 @0x40400000"
      ]
     },
     "execution_count": 2,
     "metadata": {},
     "output_type": "execute_result"
    }
   ],
   "source": [
    "import numpy as np\n",
    "from axidma import AxiDMA\n",
    "\n",
    "\n",
    "def to_bin(x):\n",
    "    vv = [ (x>>(32-(i+1)*4))&0xF for i in range(8)]\n",
    "    return '{0:04b}_{1:04b}|{2:04b}_{3:04b}|{4:04b}_{5:04b}|{6:04b}_{7:04b}'.format( *vv )\n",
    "\n",
    "\n",
    "\n",
    "dma = AxiDMA('dma')\n",
    "\n",
    "dma"
   ]
  },
  {
   "cell_type": "code",
   "execution_count": 3,
   "metadata": {
    "collapsed": false
   },
   "outputs": [
    {
     "name": "stdout",
     "output_type": "stream",
     "text": [
      "0000_0000|0000_0001|0000_0000|0000_0010\n",
      "0000_0000|0000_0001|0000_0000|0000_0010\n",
      "0000_0000|0000_0000|0000_0000|0000_0001\n",
      "0000_0000|0000_0000|0000_0000|0000_0001\n"
     ]
    }
   ],
   "source": [
    "print('\\n'.join([to_bin(x) for x in [dma.mm2s.cr, dma.s2mm.cr, dma.mm2s.st,dma.s2mm.st]]))"
   ]
  },
  {
   "cell_type": "code",
   "execution_count": 4,
   "metadata": {
    "collapsed": false
   },
   "outputs": [
    {
     "name": "stdout",
     "output_type": "stream",
     "text": [
      "SRC: [ 19 105   7 192]\n",
      "DST: [255 255 255 255]\n"
     ]
    }
   ],
   "source": [
    "import uio\n",
    "reload(uio)\n",
    "mem_uio = uio.UIO('scratch_mem')\n",
    "\n",
    "SZ=(1<<19)\n",
    "\n",
    "data = mem_uio.as_ndarray()\n",
    "\n",
    "src_data = data[:SZ]\n",
    "dst_data = data[SZ:SZ*2]\n",
    "\n",
    "src_data[:] = np.random.randint(0,256,SZ)\n",
    "dst_data[:] = 0xFF\n",
    "\n",
    "print(\"SRC:\",src_data[:4])\n",
    "print(\"DST:\",dst_data[:4])"
   ]
  },
  {
   "cell_type": "code",
   "execution_count": 5,
   "metadata": {
    "collapsed": false
   },
   "outputs": [
    {
     "name": "stdout",
     "output_type": "stream",
     "text": [
      "DMA Completed Succesfully\n"
     ]
    }
   ],
   "source": [
    "dma.launch(mem_uio.phy_buf(src_data), mem_uio.phy_buf(dst_data), enable_interrupts=True)\n",
    "if dma.wait():\n",
    "    print('DMA Completed Succesfully')\n",
    "else:\n",
    "    print('DMA FAILED')\n",
    "\n"
   ]
  },
  {
   "cell_type": "code",
   "execution_count": 6,
   "metadata": {
    "collapsed": false
   },
   "outputs": [
    {
     "name": "stdout",
     "output_type": "stream",
     "text": [
      "SUCCESS: Data copied as expected\n",
      "SRC: [ 19 105   7 192] ...\n",
      "DST: [ 19 105   7 192] ...\n"
     ]
    }
   ],
   "source": [
    "if (src_data == dst_data).all():\n",
    "    print('SUCCESS: Data copied as expected')\n",
    "else:\n",
    "    print('FAILED: dst and src do not match up')\n",
    "\n",
    "print(\"SRC:\",src_data[:4],'...')\n",
    "print(\"DST:\",dst_data[:4],'...')"
   ]
  },
  {
   "cell_type": "code",
   "execution_count": 7,
   "metadata": {
    "autoscroll": "json-false",
    "collapsed": false,
    "ein.tags": [
     "worksheet-0"
    ]
   },
   "outputs": [
    {
     "name": "stdout",
     "output_type": "stream",
     "text": [
      "Mon Jan 18 12:13:22 UTC 2016\n",
      "parallella\n",
      "crw-r----- 1 root kmem      1, 1 Jan  1  1970 /dev/mem\n",
      "crw-rw---- 1 root plugdev 247, 0 Jan  1  1970 /dev/uio0\n",
      "crw-rw---- 1 root plugdev 247, 1 Jan  1  1970 /dev/uio1\n",
      "crw-rw---- 1 root plugdev 247, 2 Jan  1  1970 /dev/uio2\n",
      "/scratch_mem@3e000000\n",
      "/amba_pl/my_mult@70020000\n",
      "/amba_pl/dma@40400000\n",
      "scratch_mem\n",
      "my_mult\n",
      "dma\n",
      "total 0\n",
      "-r--r--r-- 1 root root 4096 Jan 10 12:56 addr\n",
      "-r--r--r-- 1 root root 4096 Jan 10 12:56 name\n",
      "-r--r--r-- 1 root root 4096 Jan 10 12:56 offset\n",
      "-r--r--r-- 1 root root 4096 Jan 10 12:56 size\n"
     ]
    }
   ],
   "source": [
    "%%sh\n",
    "\n",
    "date\n",
    "whoami\n",
    "ls -l /dev/uio* /dev/mem\n",
    "cat /sys/class/uio/uio?/maps/map0/name\n",
    "cat /sys/class/uio/uio?/name\n",
    "ls -l /sys/class/uio/uio0/maps/map0"
   ]
  },
  {
   "cell_type": "code",
   "execution_count": null,
   "metadata": {
    "autoscroll": "json-false",
    "collapsed": false,
    "ein.tags": [
     "worksheet-0"
    ]
   },
   "outputs": [],
   "source": [
    "#!dtc -I fs -O dts /proc/device-tree/ "
   ]
  }
 ],
 "metadata": {
  "kernelspec": {
   "display_name": "Python 2",
   "language": "python",
   "name": "python2"
  },
  "language_info": {
   "codemirror_mode": {
    "name": "ipython",
    "version": 2
   },
   "file_extension": ".py",
   "mimetype": "text/x-python",
   "name": "python",
   "nbconvert_exporter": "python",
   "pygments_lexer": "ipython2",
   "version": "2.7.6"
  },
  "name": "axi-dma.ipynb"
 },
 "nbformat": 4,
 "nbformat_minor": 0
}
