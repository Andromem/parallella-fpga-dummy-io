{
 "cells": [
  {
   "cell_type": "code",
   "execution_count": 1,
   "metadata": {
    "autoscroll": "json-false",
    "collapsed": false,
    "ein.tags": [
     "worksheet-0"
    ]
   },
   "outputs": [],
   "source": [
    "from __future__ import print_function"
   ]
  },
  {
   "cell_type": "code",
   "execution_count": 2,
   "metadata": {
    "autoscroll": "json-false",
    "collapsed": false,
    "ein.tags": [
     "worksheet-0"
    ]
   },
   "outputs": [
    {
     "data": {
      "text/plain": [
       "UIO: dma (uio2) sz:0x10000 @0x40400000"
      ]
     },
     "execution_count": 2,
     "metadata": {},
     "output_type": "execute_result"
    }
   ],
   "source": [
    "import uio\n",
    "import numpy as np\n",
    "\n",
    "reload(uio)\n",
    "\n",
    "\n",
    "def to_bin(x):\n",
    "    vv = [ (x>>(32-(i+1)*4))&0xF for i in range(8)]\n",
    "    return '{0:04b}_{1:04b}|{2:04b}_{3:04b}|{4:04b}_{5:04b}|{6:04b}_{7:04b}'.format( *vv )\n",
    "\n",
    "\n",
    "axi_dma_direct_dtype = np.dtype([\n",
    "        ('cr'        , '<u4'),\n",
    "        ('st'        , '<u4'),\n",
    "        ('reserved1' , '<u4',4),\n",
    "        ('addr_lo'   , '<u4'),\n",
    "        ('addr_hi'   , '<u4'),\n",
    "        ('reserved2' , '<u4',2),\n",
    "        ('length'    , '<u4'),\n",
    "        ('pad'       , '<u4'),])\n",
    "\n",
    "def dma_reset(dma):\n",
    "    dma.cr = 4\n",
    "    dma.cr = 0\n",
    "    \n",
    "def dma_idle(dma):\n",
    "    return (dma.st&2) == 2\n",
    "\n",
    "def dma_halted(dma):\n",
    "    return (dma.st&1) == 1\n",
    "\n",
    "\n",
    "class AxiDMA:\n",
    "    def __init__(self, name_or_idx='dma'):\n",
    "        dma_uio = uio.UIO(name_or_idx)\n",
    "        mm2s, s2mm = dma_uio.as_recarray(2, dtype=axi_dma_direct_dtype)\n",
    "        \n",
    "        self._dma_uio = dma_uio\n",
    "        self.mm2s = mm2s\n",
    "        self.s2mm = s2mm\n",
    "        self._streams = (mm2s, s2mm)\n",
    "\n",
    "        if self.halted() == False:\n",
    "            self.reset()\n",
    "\n",
    "    def __repr__(self):\n",
    "        #TODO: dump state instead\n",
    "        return self._dma_uio.__repr__()\n",
    "    \n",
    "    def reset(self):\n",
    "        map(dma_reset, self._streams)\n",
    "\n",
    "    def idle(self):\n",
    "        return dma_idle(self.s2mm) and dma_idle(self.mm2s)\n",
    "\n",
    "    def halted(self):\n",
    "        return dma_halted(self.s2mm) and dma_halted(self.mm2s)\n",
    "\n",
    "    def _launch_stream(self, ss, buf, irq_flags = 0x1):\n",
    "        phy_addr, sz = buf\n",
    "        ss.addr_lo = phy_addr\n",
    "        ss.cr = (irq_flags<<12)|1\n",
    "        ss.length = sz\n",
    "\n",
    "    def launch(self, src_buf, dst_buf, enable_interrupts = True):\n",
    "        irq_flags = 0x1 if enable_interrupts else 0\n",
    "        \n",
    "        if enable_interrupts:\n",
    "            self._dma_uio.enable_interrupts()\n",
    "            \n",
    "        self._launch_stream(self.s2mm, dst_buf, irq_flags)\n",
    "        self._launch_stream(self.mm2s, src_buf, irq_flags)\n",
    "        \n",
    "        \n",
    "    def wait(self, n_iter=2):\n",
    "        x = self._dma_uio.wait_for_interrupt(reenable=True)\n",
    "        if x < n_iter: #wait for second interrupt\n",
    "            x = self._dma_uio.wait_for_interrupt()\n",
    "            \n",
    "        result = self.idle()\n",
    "        self.reset()\n",
    "        \n",
    "        return result\n",
    "\n",
    "        \n",
    "        \n",
    "\n",
    "dma = AxiDMA('dma')\n",
    "\n",
    "dma"
   ]
  },
  {
   "cell_type": "code",
   "execution_count": 3,
   "metadata": {
    "collapsed": false
   },
   "outputs": [
    {
     "name": "stdout",
     "output_type": "stream",
     "text": [
      "0000_0000|0000_0001|0000_0000|0000_0010\n",
      "0000_0000|0000_0001|0000_0000|0000_0010\n",
      "0000_0000|0000_0000|0000_0000|0000_0001\n",
      "0000_0000|0000_0000|0000_0000|0000_0001\n"
     ]
    }
   ],
   "source": [
    "print('\\n'.join([to_bin(x) for x in [dma.mm2s.cr, dma.s2mm.cr, dma.mm2s.st,dma.s2mm.st]]))"
   ]
  },
  {
   "cell_type": "code",
   "execution_count": 7,
   "metadata": {
    "collapsed": false
   },
   "outputs": [
    {
     "name": "stdout",
     "output_type": "stream",
     "text": [
      "SRC: [191 166 174 183]\n",
      "DST: [255 255 255 255]\n"
     ]
    }
   ],
   "source": [
    "reload(uio)\n",
    "mem_uio = uio.UIO('scratch_mem')\n",
    "\n",
    "SZ=(1<<19)\n",
    "\n",
    "data = mem_uio.as_ndarray()\n",
    "\n",
    "src_data = data[:SZ]\n",
    "dst_data = data[SZ:SZ*2]\n",
    "\n",
    "src_data[:] = np.random.randint(0,256,SZ)\n",
    "dst_data[:] = 0xFF\n",
    "\n",
    "print(\"SRC:\",src_data[:4])\n",
    "print(\"DST:\",dst_data[:4])"
   ]
  },
  {
   "cell_type": "code",
   "execution_count": 10,
   "metadata": {
    "collapsed": false
   },
   "outputs": [
    {
     "name": "stdout",
     "output_type": "stream",
     "text": [
      "DMA Completed Succesfully\n"
     ]
    }
   ],
   "source": [
    "dma.launch(mem_uio.phy_buf(src_data), mem_uio.phy_buf(dst_data), enable_interrupts=True)\n",
    "if dma.wait():\n",
    "    print('DMA Completed Succesfully')\n",
    "else:\n",
    "    print('DMA FAILED')\n",
    "\n"
   ]
  },
  {
   "cell_type": "code",
   "execution_count": 12,
   "metadata": {
    "collapsed": false
   },
   "outputs": [
    {
     "name": "stdout",
     "output_type": "stream",
     "text": [
      "SUCCESS: Data copied as expected\n",
      "SRC: [191 166 174 183] ...\n",
      "DST: [191 166 174 183] ...\n"
     ]
    }
   ],
   "source": [
    "if (src_data == dst_data).all():\n",
    "    print('SUCCESS: Data copied as expected')\n",
    "else:\n",
    "    print('FAILED: dst and src do not match up')\n",
    "\n",
    "print(\"SRC:\",src_data[:4],'...')\n",
    "print(\"DST:\",dst_data[:4],'...')"
   ]
  },
  {
   "cell_type": "code",
   "execution_count": null,
   "metadata": {
    "autoscroll": "json-false",
    "collapsed": false,
    "ein.tags": [
     "worksheet-0"
    ]
   },
   "outputs": [],
   "source": [
    "%%sh\n",
    "\n",
    "date\n",
    "whoami\n",
    "ls -l /dev/uio* /dev/mem\n",
    "cat /sys/class/uio/uio?/maps/map0/name\n",
    "cat /sys/class/uio/uio?/name\n",
    "ls /sys/class/uio/uio0/maps/map0"
   ]
  },
  {
   "cell_type": "code",
   "execution_count": null,
   "metadata": {
    "autoscroll": "json-false",
    "collapsed": false,
    "ein.tags": [
     "worksheet-0"
    ]
   },
   "outputs": [],
   "source": [
    "#!dtc -I fs -O dts /proc/device-tree/ "
   ]
  }
 ],
 "metadata": {
  "kernelspec": {
   "display_name": "Python 2",
   "language": "python",
   "name": "python2"
  },
  "language_info": {
   "codemirror_mode": {
    "name": "ipython",
    "version": 2
   },
   "file_extension": ".py",
   "mimetype": "text/x-python",
   "name": "python",
   "nbconvert_exporter": "python",
   "pygments_lexer": "ipython2",
   "version": "2.7.6"
  },
  "name": "axi-dma.ipynb"
 },
 "nbformat": 4,
 "nbformat_minor": 0
}
