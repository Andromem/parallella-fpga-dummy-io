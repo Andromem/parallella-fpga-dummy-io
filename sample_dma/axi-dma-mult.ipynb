{
 "cells": [
  {
   "cell_type": "code",
   "execution_count": 1,
   "metadata": {
    "autoscroll": "json-false",
    "collapsed": false,
    "ein.tags": [
     "worksheet-0"
    ]
   },
   "outputs": [],
   "source": [
    "from __future__ import print_function"
   ]
  },
  {
   "cell_type": "code",
   "execution_count": 2,
   "metadata": {
    "autoscroll": "json-false",
    "collapsed": false,
    "ein.tags": [
     "worksheet-0"
    ]
   },
   "outputs": [
    {
     "name": "stdout",
     "output_type": "stream",
     "text": [
      "parallella\n",
      "crw-r----- 1 root kmem      1, 1 Jan  1  1970 /dev/mem\n",
      "crw-rw---- 1 root plugdev 247, 0 Jan  1  1970 /dev/uio0\n",
      "crw-rw---- 1 root plugdev 247, 1 Jan  1  1970 /dev/uio1\n",
      "crw-rw---- 1 root plugdev 247, 2 Jan  1  1970 /dev/uio2\n",
      "/scratch_mem@3e000000\n",
      "/amba_pl/my_mult@70020000\n",
      "/amba_pl/dma@40400000\n",
      "scratch_mem\n",
      "my_mult\n",
      "dma\n",
      "total 0\n",
      "-r--r--r-- 1 root root 4096 Jan 10 12:56 addr\n",
      "-r--r--r-- 1 root root 4096 Jan 10 12:56 name\n",
      "-r--r--r-- 1 root root 4096 Jan 10 12:56 offset\n",
      "-r--r--r-- 1 root root 4096 Jan 10 12:56 size\n"
     ]
    }
   ],
   "source": [
    "%%sh\n",
    "\n",
    "whoami\n",
    "ls -l /dev/uio* /dev/mem\n",
    "cat /sys/class/uio/uio?/maps/map0/name\n",
    "cat /sys/class/uio/uio?/name\n",
    "ls -l /sys/class/uio/uio0/maps/map0"
   ]
  },
  {
   "cell_type": "code",
   "execution_count": 3,
   "metadata": {
    "autoscroll": "json-false",
    "collapsed": false,
    "ein.tags": [
     "worksheet-0"
    ]
   },
   "outputs": [
    {
     "data": {
      "text/plain": [
       "UIO: dma (uio2) sz:0x10000 @0x40400000"
      ]
     },
     "execution_count": 3,
     "metadata": {},
     "output_type": "execute_result"
    }
   ],
   "source": [
    "import numpy as np\n",
    "from axidma import AxiDMA\n",
    "\n",
    "\n",
    "def to_bin(x):\n",
    "    vv = [ (x>>(32-(i+1)*4))&0xF for i in range(8)]\n",
    "    return '{0:04b}_{1:04b}|{2:04b}_{3:04b}|{4:04b}_{5:04b}|{6:04b}_{7:04b}'.format( *vv )\n",
    "\n",
    "dma = AxiDMA('dma')\n",
    "dma"
   ]
  },
  {
   "cell_type": "code",
   "execution_count": 4,
   "metadata": {
    "collapsed": false
   },
   "outputs": [
    {
     "name": "stdout",
     "output_type": "stream",
     "text": [
      "0000_0000|0000_0001|0000_0000|0000_0010\n",
      "0000_0000|0000_0001|0000_0000|0000_0010\n",
      "0000_0000|0000_0000|0000_0000|0000_0001\n",
      "0000_0000|0000_0000|0000_0000|0000_0001\n"
     ]
    }
   ],
   "source": [
    "print('\\n'.join([to_bin(x) for x in [dma.mm2s.cr, dma.s2mm.cr, dma.mm2s.st,dma.s2mm.st]]))"
   ]
  },
  {
   "cell_type": "code",
   "execution_count": 5,
   "metadata": {
    "collapsed": true
   },
   "outputs": [],
   "source": [
    "def mult_model(src):\n",
    "    from numpy import ndarray\n",
    "    \n",
    "    ab = src.view('uint16')\n",
    "    a = ab[0::2]\n",
    "    b = ab[1::2]\n",
    "    N = len(a)\n",
    "    \n",
    "    dst    = ndarray(N, dtype='uint32')\n",
    "    dst[:] = a.astype('uint32')*b\n",
    "    \n",
    "    return dst.view('uint8')\n",
    "\n",
    "def report_stats(dt, n_in, n_out, item_sz = 4):\n",
    "    from numpy import r_\n",
    "    bb = r_[n_in, n_out, n_in + n_out]\n",
    "    mbb  = bb*1e-6\n",
    "    bps  = bb/dt\n",
    "    mbps = mbb/dt\n",
    "    N    = n_in/item_sz\n",
    "\n",
    "    print(\"Memory    : %g Mb(in) + %g Mb(out) = %g Mb(total)\"%(mbb[0], mbb[1], mbb[2]) )\n",
    "    print(\"Took      : %g ms\"%(dt*1e+3))\n",
    "    print(\"Per item  : %g us\"%( (dt*1e+6)/N ))\n",
    "    print(\"Items/s   : %.1f\"  %(N/dt))\n",
    "    print(\"Throughput: %g Mb(in) + %g Mb(out) = %g Mb/s\"%(mbps[0], mbps[1], mbps[2]))"
   ]
  },
  {
   "cell_type": "code",
   "execution_count": 6,
   "metadata": {
    "collapsed": false
   },
   "outputs": [
    {
     "name": "stdout",
     "output_type": "stream",
     "text": [
      "SRC   : [253 118  87  71 227  60 218  79] ...\n",
      "DST   : [255 255 255 255 255 255 255 255] ...\n",
      "Expect: [251 154  40  33  78 230 253  18] ...\n"
     ]
    }
   ],
   "source": [
    "import uio\n",
    "reload(uio)\n",
    "mem_uio = uio.UIO('scratch_mem')\n",
    "\n",
    "#SZ=(1<<23)-64\n",
    "SZ=(1<<20)\n",
    "\n",
    "data = mem_uio.as_ndarray()\n",
    "\n",
    "src_data = data[:SZ]\n",
    "dst_data = data[SZ:SZ*2]\n",
    "\n",
    "src_data[:] = np.random.randint(0,256,SZ)\n",
    "dst_data[:] = 0xFF\n",
    "expect_data = mult_model(src_data)\n",
    "\n",
    "print(\"SRC   :\",src_data[:8],'...')\n",
    "print(\"DST   :\",dst_data[:8],'...')\n",
    "print(\"Expect:\",expect_data[:8],'...')"
   ]
  },
  {
   "cell_type": "code",
   "execution_count": 7,
   "metadata": {
    "collapsed": false
   },
   "outputs": [
    {
     "name": "stdout",
     "output_type": "stream",
     "text": [
      "DMA Completed Succesfully\n",
      "SUCCESS: Data received as expected\n",
      "SRC   : [253 118  87  71 227  60 218  79] ...\n",
      "DST   : [251 154  40  33  78 230 253  18] ...\n",
      "Expect: [251 154  40  33  78 230 253  18] ...\n",
      "\n",
      "Time Stats\n",
      "================================================================================\n",
      "Memory    : 1.04858 Mb(in) + 1.04858 Mb(out) = 2.09715 Mb(total)\n",
      "Took      : 6.19292 ms\n",
      "Per item  : 0.0236241 us\n",
      "Items/s   : 42329610.3\n",
      "Throughput: 169.318 Mb(in) + 169.318 Mb(out) = 338.637 Mb/s\n"
     ]
    }
   ],
   "source": [
    "import time\n",
    "\n",
    "t0 = time.time()\n",
    "dma.launch(mem_uio.phy_buf(src_data), mem_uio.phy_buf(dst_data), enable_interrupts=True)\n",
    "rr = dma.wait()\n",
    "t_done = time.time()\n",
    "\n",
    "if rr:\n",
    "    print('DMA Completed Succesfully')\n",
    "else:\n",
    "    print('DMA FAILED')\n",
    "\n",
    "\n",
    "if (expect_data == dst_data).all():\n",
    "    print('SUCCESS: Data received as expected')\n",
    "else:\n",
    "    print('FAILED: dst and src do not match up')\n",
    "\n",
    "print(\"SRC   :\",src_data[:8],'...')\n",
    "print(\"DST   :\",dst_data[:8],'...')\n",
    "print(\"Expect:\", expect_data[:8],'...')\n",
    "\n",
    "print('\\nTime Stats')\n",
    "print('='*80)\n",
    "report_stats(t_done - t0, SZ, SZ)\n"
   ]
  },
  {
   "cell_type": "code",
   "execution_count": 8,
   "metadata": {
    "autoscroll": "json-false",
    "collapsed": false,
    "ein.tags": [
     "worksheet-0"
    ]
   },
   "outputs": [],
   "source": [
    "#!dtc -I fs -O dts /proc/device-tree/ "
   ]
  }
 ],
 "metadata": {
  "kernelspec": {
   "display_name": "Python 2",
   "language": "python",
   "name": "python2"
  },
  "language_info": {
   "codemirror_mode": {
    "name": "ipython",
    "version": 2
   },
   "file_extension": ".py",
   "mimetype": "text/x-python",
   "name": "python",
   "nbconvert_exporter": "python",
   "pygments_lexer": "ipython2",
   "version": "2.7.6"
  },
  "name": "axi-dma.ipynb"
 },
 "nbformat": 4,
 "nbformat_minor": 0
}
