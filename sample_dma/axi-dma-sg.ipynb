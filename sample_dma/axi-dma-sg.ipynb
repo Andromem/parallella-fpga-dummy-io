{
 "cells": [
  {
   "cell_type": "code",
   "execution_count": 1,
   "metadata": {
    "autoscroll": "json-false",
    "collapsed": false,
    "ein.tags": [
     "worksheet-0"
    ]
   },
   "outputs": [],
   "source": [
    "from __future__ import print_function"
   ]
  },
  {
   "cell_type": "code",
   "execution_count": 2,
   "metadata": {
    "autoscroll": "json-false",
    "collapsed": false,
    "ein.tags": [
     "worksheet-0"
    ]
   },
   "outputs": [
    {
     "data": {
      "text/plain": [
       "(True, 48, 48)"
      ]
     },
     "execution_count": 2,
     "metadata": {},
     "output_type": "execute_result"
    }
   ],
   "source": [
    "import numpy as np\n",
    "import axidma\n",
    "reload(axidma)\n",
    "\n",
    "\n",
    "def to_bin(x):\n",
    "    vv = [ (x>>(32-(i+1)*4))&0xF for i in range(8)]\n",
    "    return '{0:04b}_{1:04b}|{2:04b}_{3:04b}|{4:04b}_{5:04b}|{6:04b}_{7:04b}'.format( *vv )\n",
    "\n",
    "def dump_offsets(dt):\n",
    "    return '\\n'.join(sorted(['{:02X}h {}'.format((v[1]),k) for (k,v) in dt.fields.iteritems() ]))\n",
    "\n",
    "dma = axidma.AxiDMA_SG('dma')\n",
    "\n",
    "axidma.dma_is_sg(dma.s2mm), axidma.axi_dma_direct_dtype.itemsize, axidma.axi_dma_sg_dtype.itemsize"
   ]
  },
  {
   "cell_type": "code",
   "execution_count": 30,
   "metadata": {
    "collapsed": false
   },
   "outputs": [
    {
     "name": "stdout",
     "output_type": "stream",
     "text": [
      "0000_0000|0000_0000|0000_0000|0000_0000 -- curr_desc\n",
      "0000_0000|0000_0001|0000_0000|0000_1001 -- st\n",
      "0000_0000|0000_0000|0000_0000|0000_0000 -- tail_desc_msb\n",
      "0000_0000|0000_0001|0000_0000|0000_0010 -- cr\n",
      "0000_0000|0000_0000|0000_0000|0000_0011 -- sg_ctl\n",
      "0000_0000|0000_0000|0000_0000|0000_0000 -- curr_desc_msb\n",
      "0000_0000|0000_0000|0000_0000|0000_0000 -- tail_desc\n"
     ]
    }
   ],
   "source": [
    "print('\\n'.join([ to_bin(dma.mm2s[k]) + \" -- \"+k for k in dma.mm2s.dtype.fields.keys() if k != 'reserved']))"
   ]
  },
  {
   "cell_type": "code",
   "execution_count": 68,
   "metadata": {
    "collapsed": false
   },
   "outputs": [
    {
     "data": {
      "text/plain": [
       "'0x73'"
      ]
     },
     "execution_count": 68,
     "metadata": {},
     "output_type": "execute_result"
    }
   ],
   "source": [
    "def get_bit(v, bit):\n",
    "    return 0 if (v&(1<<bit)) == 0 else 1\n",
    "\n",
    "def get_bits(v, msb, lsb):\n",
    "    assert msb >= lsb\n",
    "    nb   = msb-lsb+1\n",
    "    mask = (1<<nb)-1\n",
    "    return (v>>lsb)&mask\n",
    "\n",
    "def set_bits(v, msb, lsb, x_bits):\n",
    "    assert msb >= lsb\n",
    "    nb   = msb-lsb+1\n",
    "    mask = ((1<<nb)-1)<<lsb\n",
    "    \n",
    "    assert x_bits < (1<<nb)\n",
    "    \n",
    "    return (v&(~mask))|(x_bits << lsb)\n",
    "\n",
    "\n",
    "    \n",
    "x = dma.s2mm.cr\n",
    "\n",
    "#[(i,get_bit(x,i)) for i in range(32)]\n",
    "hex(set_bits(0xF3, 7,7, 0))"
   ]
  },
  {
   "cell_type": "code",
   "execution_count": 43,
   "metadata": {
    "collapsed": false
   },
   "outputs": [
    {
     "name": "stdout",
     "output_type": "stream",
     "text": [
      "00h next\n",
      "04h next_msb\n",
      "08h buffer_address\n",
      "0Ch buffer_address_msb\n",
      "10h reserved\n",
      "18h control\n",
      "1Ch status\n",
      "20h app\n",
      "34h padding\n"
     ]
    }
   ],
   "source": [
    "sg_desc_dtype = np.dtype([\n",
    "        ('next'               , '<u4'),\n",
    "        ('next_msb'           , '<u4'),\n",
    "        ('buffer_address'     , '<u4'),\n",
    "        ('buffer_address_msb' , '<u4'),\n",
    "        ('reserved'           , '<u4',2),\n",
    "        ('control'            , '<u4'),\n",
    "        ('status'             , '<u4'),\n",
    "        ('app'                , '<u4',5),\n",
    "        ('padding'            , '<u4',3)])\n",
    "\n",
    "\n",
    "print(dump_offsets(sg_desc_dtype))"
   ]
  },
  {
   "cell_type": "code",
   "execution_count": 46,
   "metadata": {
    "collapsed": false
   },
   "outputs": [
    {
     "name": "stdout",
     "output_type": "stream",
     "text": [
      "00h cr\n",
      "04h st\n",
      "08h curr_desc\n",
      "0Ch curr_desc_msb\n",
      "10h tail_desc\n",
      "14h tail_desc_msb\n",
      "18h reserved\n",
      "2Ch sg_ctl\n"
     ]
    },
    {
     "data": {
      "text/plain": [
       "(48, 48, '0x30', 5)"
      ]
     },
     "execution_count": 46,
     "metadata": {},
     "output_type": "execute_result"
    }
   ],
   "source": [
    "axi_dma_sg_dtype = np.dtype([\n",
    "        ('cr'             , '<u4'),\n",
    "        ('st'             , '<u4'),\n",
    "        ('curr_desc'      , '<u4'),\n",
    "        ('curr_desc_msb'  , '<u4'),\n",
    "        ('tail_desc'      , '<u4'),\n",
    "        ('tail_desc_msb'  , '<u4'),\n",
    "        ('reserved'       , '<u4',5),\n",
    "        ('sg_ctl'         , '<u4'),])\n",
    "\n",
    "\n",
    "print(dump_offsets(axi_dma_sg_dtype))\n",
    "axi_dma_sg_dtype.itemsize, 0x30, hex(48), (0x2C-0x14-4)//4"
   ]
  },
  {
   "cell_type": "code",
   "execution_count": 3,
   "metadata": {
    "collapsed": false
   },
   "outputs": [
    {
     "name": "stdout",
     "output_type": "stream",
     "text": [
      "0000_0000|0000_0001|0000_0000|0000_0010\n",
      "0000_0000|0000_0001|0000_0000|0000_0010\n",
      "0000_0000|0000_0001|0000_0000|0000_1001\n",
      "0000_0000|0000_0001|0000_0000|0000_1001\n"
     ]
    }
   ],
   "source": [
    "print('\\n'.join([to_bin(x) for x in [dma.mm2s.cr, dma.s2mm.cr, dma.mm2s.st,dma.s2mm.st]]))"
   ]
  },
  {
   "cell_type": "code",
   "execution_count": 4,
   "metadata": {
    "collapsed": false
   },
   "outputs": [
    {
     "name": "stdout",
     "output_type": "stream",
     "text": [
      "SRC: [ 19 105   7 192]\n",
      "DST: [255 255 255 255]\n"
     ]
    }
   ],
   "source": [
    "import uio\n",
    "reload(uio)\n",
    "mem_uio = uio.UIO('scratch_mem')\n",
    "\n",
    "SZ=(1<<19)\n",
    "\n",
    "data = mem_uio.as_ndarray()\n",
    "\n",
    "src_data = data[:SZ]\n",
    "dst_data = data[SZ:SZ*2]\n",
    "\n",
    "src_data[:] = np.random.randint(0,256,SZ)\n",
    "dst_data[:] = 0xFF\n",
    "\n",
    "print(\"SRC:\",src_data[:4])\n",
    "print(\"DST:\",dst_data[:4])"
   ]
  },
  {
   "cell_type": "code",
   "execution_count": 5,
   "metadata": {
    "collapsed": false
   },
   "outputs": [
    {
     "name": "stdout",
     "output_type": "stream",
     "text": [
      "DMA Completed Succesfully\n"
     ]
    }
   ],
   "source": [
    "dma.launch(mem_uio.phy_buf(src_data), mem_uio.phy_buf(dst_data), enable_interrupts=True)\n",
    "if dma.wait():\n",
    "    print('DMA Completed Succesfully')\n",
    "else:\n",
    "    print('DMA FAILED')\n",
    "\n"
   ]
  },
  {
   "cell_type": "code",
   "execution_count": 6,
   "metadata": {
    "collapsed": false
   },
   "outputs": [
    {
     "name": "stdout",
     "output_type": "stream",
     "text": [
      "SUCCESS: Data copied as expected\n",
      "SRC: [ 19 105   7 192] ...\n",
      "DST: [ 19 105   7 192] ...\n"
     ]
    }
   ],
   "source": [
    "if (src_data == dst_data).all():\n",
    "    print('SUCCESS: Data copied as expected')\n",
    "else:\n",
    "    print('FAILED: dst and src do not match up')\n",
    "\n",
    "print(\"SRC:\",src_data[:4],'...')\n",
    "print(\"DST:\",dst_data[:4],'...')"
   ]
  },
  {
   "cell_type": "code",
   "execution_count": 3,
   "metadata": {
    "autoscroll": "json-false",
    "collapsed": false,
    "ein.tags": [
     "worksheet-0"
    ]
   },
   "outputs": [
    {
     "name": "stdout",
     "output_type": "stream",
     "text": [
      "Wed Mar 16 11:44:16 UTC 2016\n",
      "parallella\n",
      "crw-r----- 1 root kmem      1, 1 Jan  1  1970 /dev/mem\n",
      "crw-rw---- 1 root plugdev 247, 0 Jan  1  1970 /dev/uio0\n",
      "crw-rw---- 1 root plugdev 247, 1 Jan  1  1970 /dev/uio1\n",
      "crw-rw---- 1 root plugdev 247, 2 Jan  1  1970 /dev/uio2\n",
      "/scratch_mem@3e000000\n",
      "/amba_pl/my_mult@70020000\n",
      "/amba_pl/dma@40400000\n",
      "scratch_mem\n",
      "my_mult\n",
      "dma\n",
      "total 0\n",
      "-r--r--r-- 1 root root 4096 Feb 24 12:03 addr\n",
      "-r--r--r-- 1 root root 4096 Mar 16 11:44 name\n",
      "-r--r--r-- 1 root root 4096 Mar 16 11:44 offset\n",
      "-r--r--r-- 1 root root 4096 Feb 24 12:03 size\n"
     ]
    }
   ],
   "source": [
    "%%sh\n",
    "\n",
    "date\n",
    "whoami\n",
    "ls -l /dev/uio* /dev/mem\n",
    "cat /sys/class/uio/uio?/maps/map0/name\n",
    "cat /sys/class/uio/uio?/name\n",
    "ls -l /sys/class/uio/uio0/maps/map0"
   ]
  },
  {
   "cell_type": "code",
   "execution_count": null,
   "metadata": {
    "autoscroll": "json-false",
    "collapsed": false,
    "ein.tags": [
     "worksheet-0"
    ]
   },
   "outputs": [],
   "source": [
    "#!dtc -I fs -O dts /proc/device-tree/ "
   ]
  }
 ],
 "metadata": {
  "kernelspec": {
   "display_name": "Python 2",
   "language": "python",
   "name": "python2"
  },
  "language_info": {
   "codemirror_mode": {
    "name": "ipython",
    "version": 2
   },
   "file_extension": ".py",
   "mimetype": "text/x-python",
   "name": "python",
   "nbconvert_exporter": "python",
   "pygments_lexer": "ipython2",
   "version": "2.7.6"
  },
  "name": "axi-dma.ipynb"
 },
 "nbformat": 4,
 "nbformat_minor": 0
}
